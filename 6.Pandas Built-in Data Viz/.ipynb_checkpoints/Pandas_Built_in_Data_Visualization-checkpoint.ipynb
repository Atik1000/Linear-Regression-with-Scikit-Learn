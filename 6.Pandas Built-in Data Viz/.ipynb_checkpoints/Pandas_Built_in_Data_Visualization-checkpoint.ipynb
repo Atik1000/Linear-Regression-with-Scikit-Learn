{
 "cells": [
  {
   "cell_type": "markdown",
   "metadata": {
    "id": "_o4V33kn5ehI"
   },
   "source": []
  },
  {
   "cell_type": "markdown",
   "metadata": {
    "id": "TrQvU2m15gAJ"
   },
   "source": [
    "# Pandas Built-in Data Visualization\n",
    "In this lecture we will learn about pandas built-in capabilities for data visualization! It's built-off of matplotlib, but it baked into pandas for easier usage!\n",
    "\n",
    "Let's take a look!\n",
    "\n",
    "Imports"
   ]
  },
  {
   "cell_type": "code",
   "execution_count": 1,
   "metadata": {
    "id": "Chv9z_zD5h-c"
   },
   "outputs": [],
   "source": [
    "import numpy as np\n",
    "import pandas as pd\n",
    "%matplotlib inline"
   ]
  },
  {
   "cell_type": "markdown",
   "metadata": {
    "id": "I9oOZt6c5pRC"
   },
   "source": [
    "# The Data\n",
    "There are some fake data csv files you can read in as dataframes:"
   ]
  },
  {
   "cell_type": "code",
   "execution_count": 2,
   "metadata": {
    "colab": {
     "base_uri": "https://localhost:8080/",
     "height": 328
    },
    "id": "7UBLIfJw5kID",
    "outputId": "bef25391-b937-4eea-e359-5a5c7e3c928f"
   },
   "outputs": [],
   "source": [
    "df1 = pd.read_csv('df1',index_col=0)\n",
    "df2 = pd.read_csv('df2')"
   ]
  },
  {
   "cell_type": "code",
   "execution_count": null,
   "metadata": {
    "id": "8KEEDZoL5uq9"
   },
   "outputs": [],
   "source": [
    "Style Sheets\n",
    "Matplotlib has style sheets you can use to make your plots look a little nicer. These style sheets include plot_bmh,plot_fivethirtyeight,plot_ggplot and more. They basically create a set of style rules that your plots follow. I recommend using them, they make all your plots have the same look and feel more professional. You can even create your own if you want your company's plots to all have the same look (it is a bit tedious to create on though).\n",
    "\n",
    "Here is how to use them.\n",
    "\n",
    "Before plt.style.use() your plots look like this:"
   ]
  }
 ],
 "metadata": {
  "colab": {
   "provenance": []
  },
  "kernelspec": {
   "display_name": "Python 3 (ipykernel)",
   "language": "python",
   "name": "python3"
  },
  "language_info": {
   "codemirror_mode": {
    "name": "ipython",
    "version": 3
   },
   "file_extension": ".py",
   "mimetype": "text/x-python",
   "name": "python",
   "nbconvert_exporter": "python",
   "pygments_lexer": "ipython3",
   "version": "3.10.4"
  }
 },
 "nbformat": 4,
 "nbformat_minor": 1
}
